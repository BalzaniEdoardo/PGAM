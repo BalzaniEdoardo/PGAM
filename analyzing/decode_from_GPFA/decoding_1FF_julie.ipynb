{
 "cells": [
  {
   "cell_type": "code",
   "execution_count": 2,
   "id": "ade863ca",
   "metadata": {},
   "outputs": [
    {
     "name": "stdout",
     "output_type": "stream",
     "text": [
      "path None do not exist\n",
      "\n",
      "Module pycuda not found! Use CPU\n"
     ]
    },
    {
     "ename": "ModuleNotFoundError",
     "evalue": "No module named 'knots_constructor_Julie'",
     "output_type": "error",
     "traceback": [
      "\u001b[0;31m---------------------------------------------------------------------------\u001b[0m",
      "\u001b[0;31mModuleNotFoundError\u001b[0m                       Traceback (most recent call last)",
      "\u001b[0;32m<ipython-input-2-7d0f2e70acac>\u001b[0m in \u001b[0;36m<module>\u001b[0;34m\u001b[0m\n\u001b[1;32m     13\u001b[0m \u001b[0;32mimport\u001b[0m \u001b[0mscipy\u001b[0m\u001b[0;34m.\u001b[0m\u001b[0mstats\u001b[0m \u001b[0;32mas\u001b[0m \u001b[0msts\u001b[0m\u001b[0;34m\u001b[0m\u001b[0;34m\u001b[0m\u001b[0m\n\u001b[1;32m     14\u001b[0m \u001b[0;32mfrom\u001b[0m \u001b[0mcopy\u001b[0m \u001b[0;32mimport\u001b[0m \u001b[0mdeepcopy\u001b[0m\u001b[0;34m\u001b[0m\u001b[0;34m\u001b[0m\u001b[0m\n\u001b[0;32m---> 15\u001b[0;31m \u001b[0;32mfrom\u001b[0m \u001b[0mknots_constructor_Julie\u001b[0m \u001b[0;32mimport\u001b[0m \u001b[0;34m*\u001b[0m\u001b[0;34m\u001b[0m\u001b[0;34m\u001b[0m\u001b[0m\n\u001b[0m\u001b[1;32m     16\u001b[0m \u001b[0;32mfrom\u001b[0m \u001b[0mpath_class\u001b[0m \u001b[0;32mimport\u001b[0m \u001b[0mget_paths_class\u001b[0m\u001b[0;34m\u001b[0m\u001b[0;34m\u001b[0m\u001b[0m\n\u001b[1;32m     17\u001b[0m \u001b[0;32mfrom\u001b[0m \u001b[0mscipy\u001b[0m\u001b[0;34m.\u001b[0m\u001b[0mio\u001b[0m \u001b[0;32mimport\u001b[0m \u001b[0mloadmat\u001b[0m\u001b[0;34m\u001b[0m\u001b[0;34m\u001b[0m\u001b[0m\n",
      "\u001b[0;31mModuleNotFoundError\u001b[0m: No module named 'knots_constructor_Julie'"
     ]
    }
   ],
   "source": [
    "import os,inspect,sys,re\n",
    "# folder_name = os.path.dirname(os.path.realpath(__file__))\n",
    "folder_name = os.path.abspath('/Users/edoardo/Work/Code/GAM_code/fitting')\n",
    "main_dir = os.path.dirname(folder_name)\n",
    "sys.path.append(os.path.join(main_dir,'GAM_library'))\n",
    "sys.path.append(os.path.join(main_dir,'firefly_utils'))\n",
    "sys.path.append(os.path.join(folder_name,'util_preproc'))\n",
    "\n",
    "from GAM_library import *\n",
    "from data_handler import *\n",
    "from gam_data_handlers import *\n",
    "import numpy as np\n",
    "import scipy.stats as sts\n",
    "from copy import deepcopy\n",
    "from knots_constructor_Julie import *\n",
    "from path_class import get_paths_class\n",
    "from scipy.io import loadmat\n",
    "from utils_loading import unpack_preproc_data\n",
    "import dill\n",
    "from scipy.ndimage import convolve1d\n",
    "from scipy.interpolate import interp1d"
   ]
  },
  {
   "cell_type": "code",
   "execution_count": 2,
   "id": "943b7e3a",
   "metadata": {},
   "outputs": [],
   "source": [
    "# Run this code after the .npz file is transferred into the cluster!!!"
   ]
  },
  {
   "cell_type": "code",
   "execution_count": 3,
   "id": "4c58b286",
   "metadata": {},
   "outputs": [],
   "source": [
    "# fhName = os.path.join(main_dir, 'npz_files','close','m53s14.npz')\n",
    "fhName = '/scratch/jpn5/dataset_firefly/m53s91.npz'\n",
    "if fhName.endswith('.mat'):\n",
    "    dat = loadmat(fhName)\n",
    "elif fhName.endswith('.npy'):\n",
    "    dat = np.load(fhName, allow_pickle=True).all()\n",
    "elif fhName.endswith('.npz'):\n",
    "    dat = np.load(fhName, allow_pickle=True)"
   ]
  },
  {
   "cell_type": "code",
   "execution_count": 4,
   "id": "c6792ecd",
   "metadata": {},
   "outputs": [],
   "source": [
    "# with lfp\n",
    "par_list = ['Xt', 'Yt', 'lfp_beta', 'lfp_alpha', 'lfp_theta', 'var_names', 'info_trial',\n",
    "        'trial_idx', 'brain_area', 'pre_trial_dur', 'post_trial_dur', 'time_bin', 'cR', 'presence_rate', \n",
    "            'isiV',\n",
    "        'unit_type','channel_id','electrode_id','cluster_id']\n",
    "(Xt, yt, lfp_beta, lfp_alpha, lfp_theta, var_names, trial_type,\n",
    "  trial_idx, brain_area, pre_trial_dur, post_trial_dur, time_bin,\n",
    "  cont_rate_filter, presence_rate_filter, isi_v_filter, unit_type,\n",
    "  channel_id,electrode_id,cluster_id) = unpack_preproc_data(fhName, par_list)"
   ]
  },
  {
   "cell_type": "code",
   "execution_count": 5,
   "id": "1ffe002e",
   "metadata": {},
   "outputs": [
    {
     "name": "stdout",
     "output_type": "stream",
     "text": [
      "['MST' 'MST' 'MST' 'MST' 'MST' 'MST' 'MST' 'MST' 'MST' 'MST' 'MST' 'MST'\n",
      " 'MST' 'PFC' 'PFC' 'PFC' 'PFC' 'PFC' 'PFC' 'PFC' 'PFC' 'PFC' 'PPC' 'PPC'\n",
      " 'PPC' 'PPC' 'PPC' 'PPC' 'PPC' 'PFC' 'PFC' 'PFC' 'PFC' 'PFC' 'PFC' 'PFC'\n",
      " 'PFC' 'PFC' 'PPC' 'PPC' 'PFC' 'PFC' 'PPC' 'PPC' 'PPC' 'PPC' 'PFC' 'PFC'\n",
      " 'PFC' 'PFC' 'PFC' 'PFC' 'PFC' 'PPC' 'PPC' 'PPC' 'PPC' 'PPC' 'PFC' 'PFC'\n",
      " 'PFC' 'PFC' 'PFC' 'PPC' 'PPC' 'PPC' 'PPC' 'PFC']\n",
      "0.2\n"
     ]
    }
   ],
   "source": [
    "print(brain_area)\n",
    "print(pre_trial_dur)"
   ]
  },
  {
   "cell_type": "code",
   "execution_count": 6,
   "id": "2fd7663f",
   "metadata": {},
   "outputs": [
    {
     "name": "stdout",
     "output_type": "stream",
     "text": [
      "(507613, 16)\n",
      "['rad_vel' 'ang_vel' 'rad_path' 'ang_path' 'rad_target' 'ang_target'\n",
      " 't_move' 't_flyOFF' 't_stop' 't_reward' 'eye_vert' 'eye_hori' 'hand_vel1'\n",
      " 'hand_vel2' 'rad_acc' 'ang_acc']\n",
      "(507613, 68)\n",
      "(507613, 68)\n",
      "(507613, 68)\n",
      "(507613, 68)\n"
     ]
    }
   ],
   "source": [
    "print(Xt.shape)\n",
    "print(var_names)\n",
    "print(yt.shape)\n",
    "print(lfp_beta.shape)\n",
    "print(lfp_alpha.shape)\n",
    "print(lfp_theta.shape)"
   ]
  },
  {
   "cell_type": "code",
   "execution_count": 7,
   "id": "34415b3c",
   "metadata": {},
   "outputs": [],
   "source": [
    "dict_xlims = {}\n",
    "\n",
    "# get the unit to include as input covariates\n",
    "cont_rate_filter = (cont_rate_filter < 0.2) | (unit_type == 'multiunit')\n",
    "presence_rate_filter = presence_rate_filter > 0.9\n",
    "isi_v_filter = isi_v_filter < 0.2\n",
    "combine_filter = (cont_rate_filter) * (presence_rate_filter) * (isi_v_filter)\n",
    "\n",
    "# unit number according to matlab indexing\n",
    "neuron_keep = np.arange(1, yt.shape[1] + 1)[combine_filter]\n",
    "\n",
    "# extract the condition to be filtered and the triL\n",
    "session = os.path.basename(fhName).split('.')[0]"
   ]
  },
  {
   "cell_type": "code",
   "execution_count": 8,
   "id": "d3bbd4fc",
   "metadata": {},
   "outputs": [
    {
     "name": "stdout",
     "output_type": "stream",
     "text": [
      "[ 2  3  4  5  6  7  8  9 10 11 12 13 14 15 16 17 18 19 21 22 23 24 25 26\n",
      " 27 28 29 30 31 32 33 34 35 36 37 38 39 40 41 42 43 44 45 46 47 48 49 50\n",
      " 51 52 53 54 55 56 57 59 60 61 62 63 64 65 66 67 68]\n"
     ]
    }
   ],
   "source": [
    "print(neuron_keep)"
   ]
  },
  {
   "cell_type": "code",
   "execution_count": 9,
   "id": "547dbf8e",
   "metadata": {},
   "outputs": [
    {
     "name": "stdout",
     "output_type": "stream",
     "text": [
      "[14 15 16 17 18 19 20 21 22 23 24 25 26 27 28 29 30 31 32 33 34 35 36 37\n",
      " 38 39 40 41 42 43 44 45 46 47 48 49 50 51 52 53 54 55 56 57 58 59 60 61\n",
      " 62 63 64 65 66 67 68]\n"
     ]
    }
   ],
   "source": [
    "neuron_region = np.where(brain_area != 'MST')[0] + 1\n",
    "print(neuron_region)\n",
    "neuron_keep = np.intersect1d(neuron_region, neuron_keep)"
   ]
  },
  {
   "cell_type": "code",
   "execution_count": 11,
   "id": "c4b51f93",
   "metadata": {},
   "outputs": [],
   "source": [
    "# neuron_region_2 = np.where(brain_area == 'PFC')[0] + 1\n",
    "# neuron_keep = np.intersect1d(neuron_region_2, neuron_keep)"
   ]
  },
  {
   "cell_type": "code",
   "execution_count": 10,
   "id": "6abf997f",
   "metadata": {},
   "outputs": [
    {
     "name": "stdout",
     "output_type": "stream",
     "text": [
      "[14 15 16 17 18 19 21 22 23 24 25 26 27 28 29 30 31 32 33 34 35 36 37 38\n",
      " 39 40 41 42 43 44 45 46 47 48 49 50 51 52 53 54 55 56 57 59 60 61 62 63\n",
      " 64 65 66 67 68]\n",
      "53\n",
      "m53s91\n"
     ]
    }
   ],
   "source": [
    "print(neuron_keep)\n",
    "print(len(neuron_keep))\n",
    "print(session)"
   ]
  },
  {
   "cell_type": "code",
   "execution_count": 11,
   "id": "10994520",
   "metadata": {},
   "outputs": [],
   "source": [
    "empty_trial = np.empty(trial_idx[-1] + 1)\n",
    "for i in range(trial_idx[-1] + 1):\n",
    "    empty_trial[i]=len(yt[trial_idx == i][:, 0]) != 0"
   ]
  },
  {
   "cell_type": "code",
   "execution_count": 12,
   "id": "eb9d2b97",
   "metadata": {},
   "outputs": [
    {
     "name": "stdout",
     "output_type": "stream",
     "text": [
      "1023\n"
     ]
    }
   ],
   "source": [
    "trial_keep = np.arange(trial_idx[-1] + 1)[np.where(empty_trial == 1)]\n",
    "print(len(trial_keep))"
   ]
  },
  {
   "cell_type": "code",
   "execution_count": 13,
   "id": "80553dee",
   "metadata": {},
   "outputs": [
    {
     "data": {
      "text/plain": [
       "[<matplotlib.lines.Line2D at 0x1464744c66d0>]"
      ]
     },
     "execution_count": 13,
     "metadata": {},
     "output_type": "execute_result"
    },
    {
     "data": {
      "image/png": "[encoded data removed]",
      "text/plain": [
       "<Figure size 432x288 with 1 Axes>"
      ]
     },
     "metadata": {
      "needs_background": "light"
     },
     "output_type": "display_data"
    }
   ],
   "source": [
    "filtwidth = 10\n",
    "t = np.linspace(-2 * filtwidth, 2 * filtwidth, 4 * filtwidth + 1)\n",
    "h = np.exp(-t ** 2 / (2 * filtwidth ** 2))\n",
    "h = h / np.sum(h)\n",
    "plt.plot(h)"
   ]
  },
  {
   "cell_type": "code",
   "execution_count": 14,
   "id": "f506161b",
   "metadata": {},
   "outputs": [],
   "source": [
    "def spike_smooth(x,trials_idx,filt = h):\n",
    "    sm_x = np.zeros(x.shape[0])\n",
    "    for tr in np.unique(trials_idx):\n",
    "        sel = trials_idx == tr\n",
    "        sm_x[sel] = convolve1d(x[sel],filt,mode='nearest')\n",
    "    return sm_x\n",
    "\n",
    "def pop_spike_convolve(spike_mat,trials_idx,filt = h):\n",
    "    sm_spk = np.zeros(spike_mat.shape)\n",
    "    for neu in range(spike_mat.shape[1]):\n",
    "        sm_spk[:,neu] = spike_smooth(spike_mat[:,neu],trials_idx,filt)\n",
    "    return sm_spk"
   ]
  },
  {
   "cell_type": "code",
   "execution_count": 16,
   "id": "972406dc",
   "metadata": {},
   "outputs": [
    {
     "data": {
      "text/plain": [
       "[<matplotlib.lines.Line2D at 0x146473c07090>]"
      ]
     },
     "execution_count": 16,
     "metadata": {},
     "output_type": "execute_result"
    },
    {
     "data": {
      "image/png": "[encoded data removed]",
      "text/plain": [
       "<Figure size 432x288 with 1 Axes>"
      ]
     },
     "metadata": {
      "needs_background": "light"
     },
     "output_type": "display_data"
    }
   ],
   "source": [
    "num_points = np.empty(len(trial_keep))\n",
    "for i,tr in enumerate(trial_keep):\n",
    "    num_points[i] = len(yt[trial_idx == tr][:, 0])\n",
    "plt.plot(num_points)"
   ]
  },
  {
   "cell_type": "code",
   "execution_count": 17,
   "id": "2656ca75",
   "metadata": {},
   "outputs": [],
   "source": [
    "# event_list = ['t_targ', 't_stop', 't_reward']\n",
    "event_list = ['t_flyOFF', 't_stop', 't_reward']"
   ]
  },
  {
   "cell_type": "code",
   "execution_count": 18,
   "id": "386121c9",
   "metadata": {},
   "outputs": [],
   "source": [
    "flyON_dur = 50 # number of time points"
   ]
  },
  {
   "cell_type": "code",
   "execution_count": 19,
   "id": "5b47031d",
   "metadata": {},
   "outputs": [],
   "source": [
    "def compute_median_IEI(X,varnames,event_list,trial_idx,dt=0.006#,flyON_dur=50\n",
    "                      ):\n",
    "    \"\"\"\n",
    "    IEI = inter event interval\n",
    "    ES = event starts\n",
    "    EE = event ends\n",
    "    flyON_dur = duration of target on in time points (50 tp correspond 50*dt sec, in 6ms bins it is 300ms)\n",
    "    :return:\n",
    "    \"\"\"\n",
    "    tr_with_event = {}\n",
    "    tr_without_event = {}\n",
    "    event_dict = {}\n",
    "    for event in event_list:\n",
    "        event_dict[event] = event\n",
    "        tr_with_event[event_dict[event]] = []\n",
    "        tr_without_event[event_dict[event]] = []\n",
    "\n",
    "        event_col = np.where(varnames == event_dict[event])[0][0]\n",
    "        for tr in np.unique(trial_idx):\n",
    "            if any(X[trial_idx == tr, event_col]):\n",
    "                tr_with_event[event_dict[event]] += [tr]\n",
    "            else:\n",
    "                tr_without_event[event_dict[event]] += [tr]\n",
    "        tr_with_event[event_dict[event]] = set(tr_with_event[event_dict[event]])\n",
    "\n",
    "    median_iei = np.zeros(len(event_list) - 1)\n",
    "    for k in range(len(event_list) - 1):\n",
    "        ev1 = event_list[k]\n",
    "        ev2 = event_list[k+1]\n",
    "        ev1_col = np.where(varnames == ev1)[0][0]\n",
    "        ev2_col = np.where(varnames == ev2)[0][0]\n",
    "        trial_use = np.sort(list(tr_with_event[ev1].intersection(tr_with_event[ev2])))\n",
    "        # Julie changed here to only include successful trials:\n",
    "        trial_use = np.intersect1d(trial_use, np.array(list(tr_with_event['t_reward'])))\n",
    "        \n",
    "        iei = np.zeros(trial_use.shape[0])\n",
    "        cc = 0\n",
    "#         if ev1 == 't_targ':\n",
    "        if ev1 == 't_flyOFF':\n",
    "            es = np.zeros(trial_use.shape[0])\n",
    "            for tr in trial_use:\n",
    "                iei[cc] = (np.where(X[trial_idx==tr, ev2_col])[0][0] - np.where(X[trial_idx==tr, ev1_col])[0][0])*dt + flyON_dur*dt\n",
    "                es[cc] = np.where(X[trial_idx==tr, ev1_col])[0][0] - flyON_dur\n",
    "                cc += 1\n",
    "        elif ev2 == 't_reward':\n",
    "            ee = np.zeros(trial_use.shape[0])\n",
    "            for tr in trial_use:\n",
    "                iei[cc] = (np.where(X[trial_idx==tr, ev2_col])[0][0] - np.where(X[trial_idx==tr, ev1_col])[0][0])*dt\n",
    "                ee[cc] = len(np.where(trial_idx == tr)[0]) - np.where(X[trial_idx==tr, ev2_col])[0][0]\n",
    "                cc += 1            \n",
    "        else:\n",
    "            for tr in trial_use:\n",
    "                iei[cc] = (np.where(X[trial_idx==tr, ev2_col])[0][0] - np.where(X[trial_idx==tr, ev1_col])[0][0])*dt\n",
    "                cc += 1\n",
    "\n",
    "\n",
    "        median_iei[k] = np.median(iei)\n",
    "    \n",
    "    es = np.median(es)*dt\n",
    "    ee = np.median(ee)*dt\n",
    "    return median_iei,tr_without_event,es,ee"
   ]
  },
  {
   "cell_type": "code",
   "execution_count": 20,
   "id": "44db70e4",
   "metadata": {},
   "outputs": [],
   "source": [
    "def compute_aligned_rate(spk_mat, X, varnames, h, trial_idx, event_align,dt=0.006,# flyON_dur=50,\n",
    "                         num_tp_x_bin=None,\n",
    "                         pre_trial_dur=pre_trial_dur, post_trial_dur=post_trial_dur):\n",
    "    # this code implies that reward is the last event\n",
    "    assert(event_align[-1] == 't_reward')\n",
    "    # get median iei\n",
    "    median_iei_middle, tr_without_event, es, ee = compute_median_IEI(X,varnames,event_align,trial_idx,dt=dt) #,flyON_dur=flyON_dur)\n",
    "    \n",
    "    # Julie: include pre-trial and post-trial points here, this is the unified time length\n",
    "    median_iei = np.zeros(len(median_iei_middle) + 2)\n",
    "    median_iei[0] = es # The unit should be in seconds\n",
    "    median_iei[1:-1] = median_iei_middle\n",
    "    median_iei[-1] = ee\n",
    "\n",
    "    # set time points number for aligned trials\n",
    "\n",
    "    num_tp = 0\n",
    "    if num_tp_x_bin is None:\n",
    "        num_tp_x_bin = []\n",
    "        time_bounds = np.cumsum(np.hstack(([0],median_iei)))\n",
    "        for k in range(median_iei.shape[0]):\n",
    "            t0 = time_bounds[k]\n",
    "            t1 = time_bounds[k+1]\n",
    "            num_tp_x_bin += [int(np.ceil((t1 - t0) / dt))]\n",
    "            num_tp += num_tp_x_bin[-1] - 1\n",
    "\n",
    "\n",
    "    else:\n",
    "        time_bounds = np.cumsum(np.hstack(([0], median_iei)))\n",
    "        for k in range(median_iei.shape[0]):\n",
    "            num_tp += num_tp_x_bin[k] - 1\n",
    "\n",
    "\n",
    "    # extract firing rate estimate\n",
    "    firing_rate_est = pop_spike_convolve(spk_mat, trial_idx, h)/dt\n",
    "\n",
    "    # Julie changed here - but it's bad practice!\n",
    "    unq_trials = np.array(list(set(np.unique(trial_idx)) - set(tr_without_event['t_reward'])))\n",
    "    trial_rescaled_rate = np.zeros((spk_mat.shape[1],unq_trials.shape[0], num_tp)) * np.nan\n",
    "    rescaled_vel = np.zeros((unq_trials.shape[0], num_tp)) * np.nan\n",
    "    rescaled_ang = np.zeros((unq_trials.shape[0], num_tp)) * np.nan\n",
    "    rescaled_ev = np.zeros((unq_trials.shape[0], num_tp)) * np.nan\n",
    "    rescaled_eh = np.zeros((unq_trials.shape[0], num_tp)) * np.nan\n",
    "#     rescaled_rd_1 = np.zeros((unq_trials.shape[0], num_tp)) * np.nan\n",
    "#     rescaled_ad_1 = np.zeros((unq_trials.shape[0], num_tp)) * np.nan\n",
    "#     rescaled_rd_2 = np.zeros((unq_trials.shape[0], num_tp)) * np.nan\n",
    "#     rescaled_ad_2 = np.zeros((unq_trials.shape[0], num_tp)) * np.nan\n",
    "    rescaled_rd = np.zeros((unq_trials.shape[0], num_tp)) * np.nan\n",
    "    rescaled_ad = np.zeros((unq_trials.shape[0], num_tp)) * np.nan\n",
    "    rescaled_ra = np.zeros((unq_trials.shape[0], num_tp)) * np.nan \n",
    "    rescaled_aa = np.zeros((unq_trials.shape[0], num_tp)) * np.nan \n",
    "\n",
    "\n",
    "#     timeSTOP = np.zeros((unq_trials.shape[0])) * np.nan\n",
    "#     timeSTART = np.zeros((unq_trials.shape[0])) * np.nan\n",
    "#     timeOFF = np.zeros((unq_trials.shape[0])) * np.nan\n",
    "    isREW = np.zeros((unq_trials.shape[0]),dtype=bool)\n",
    "# For recording the initial distance to target, maybe useful later\n",
    "#     rad_targ_vec = np.zeros(unq_trials.shape[0])\n",
    "    cnt_tr = 0\n",
    "    trial_list = []\n",
    "    for tr in unq_trials:\n",
    "        if cnt_tr % 100 == 0:\n",
    "            print('%d/%d'%(cnt_tr+1,unq_trials.shape[0]))\n",
    "        skip_trial = False\n",
    "        is_rew = not (tr in tr_without_event['t_reward'])\n",
    "        rad_vel = X[trial_idx == tr, np.where(varnames == 'rad_vel')].reshape(-1)\n",
    "        ang_vel = X[trial_idx == tr, np.where(varnames == 'ang_vel')].reshape(-1)\n",
    "        eye_vert = X[trial_idx == tr, np.where(varnames == 'eye_vert')].reshape(-1)\n",
    "        eye_hori = X[trial_idx == tr, np.where(varnames == 'eye_hori')].reshape(-1)\n",
    "\n",
    "#         rad_targ_1 = X[trial_idx == tr, np.where(varnames == 'rad_target_1')].reshape(-1)\n",
    "#         ang_targ_1 = X[trial_idx == tr, np.where(varnames == 'ang_target_1')].reshape(-1)\n",
    "#         rad_targ_2 = X[trial_idx == tr, np.where(varnames == 'rad_target_2')].reshape(-1)\n",
    "#         ang_targ_2 = X[trial_idx == tr, np.where(varnames == 'ang_target_2')].reshape(-1)\n",
    "        rad_targ = X[trial_idx == tr, np.where(varnames == 'rad_target')].reshape(-1)\n",
    "        ang_targ = X[trial_idx == tr, np.where(varnames == 'ang_target')].reshape(-1)\n",
    "        rad_acc = X[trial_idx == tr, np.where(varnames == 'rad_acc')].reshape(-1)\n",
    "        ang_acc = X[trial_idx == tr, np.where(varnames == 'ang_acc')].reshape(-1)\n",
    "\n",
    "\n",
    "#         try:\n",
    "#             rad_targ_vec[cnt_tr] = rad_targ[~np.isnan(rad_targ)][0]\n",
    "#         except:\n",
    "#             rad_targ_vec[cnt_tr] = np.nan\n",
    "        if tr == unq_trials[0]:\n",
    "            time_rescale_all = []\n",
    "        cc = 0\n",
    "        trial_list += [tr]\n",
    "        \n",
    "        \n",
    "        # Having reward and non-reward trials makes things complicated...\n",
    "        # this considers reward as last event\n",
    "        \n",
    "        ev0 = event_align[-2]\n",
    "        tp_last = np.where(X[trial_idx==tr, np.where(varnames==ev0)] == 1)[1][0]\n",
    "        if ~is_rew:\n",
    "            sele_tr = np.where(trial_idx == tr)[0]\n",
    "            sele_tr = sele_tr[tp_last:-int(np.ceil(post_trial_dur / dt))]\n",
    "            tp_reward = tp_last + min(int(median_iei[-2] / dt), sele_tr.shape[0])\n",
    "        else:\n",
    "            tp_reward = np.where(X[trial_idx==tr, np.where(varnames=='t_reward')] == 1)[1][0]\n",
    "        for k in range(median_iei.shape[0]):\n",
    "            # This is specific to trials\n",
    "            time_points = num_tp_x_bin[k]\n",
    "\n",
    "            if k == 0:\n",
    "                tp_0 = 0\n",
    "                try:\n",
    "#                     tp_1 = np.where(X[trial_idx==tr, np.where(varnames=='t_targ')] == 1)[1][0]\n",
    "                    tp_1 = np.where(X[trial_idx==tr, np.where(varnames=='t_flyOFF')] == 1)[1][0]\n",
    "\n",
    "                except:\n",
    "                    print('skip tr',cnt_tr)\n",
    "                    rescaled_vel[cnt_tr, cc:cc + time_points - 1] = np.nan\n",
    "                    rescaled_ang[cnt_tr, cc:cc + time_points - 1] = np.nan\n",
    "                    rescaled_ev[cnt_tr, cc:cc + time_points - 1] = np.nan\n",
    "                    rescaled_eh[cnt_tr, cc:cc + time_points - 1] = np.nan\n",
    "#                     rescaled_ad_1[cnt_tr, cc:cc + time_points - 1] = np.nan\n",
    "#                     rescaled_rd_1[cnt_tr, cc:cc + time_points - 1] = np.nan\n",
    "#                     rescaled_ad_2[cnt_tr, cc:cc + time_points - 1] = np.nan\n",
    "#                     rescaled_rd_2[cnt_tr, cc:cc + time_points - 1] = np.nan\n",
    "                    rescaled_ad[cnt_tr, cc:cc + time_points - 1] = np.nan\n",
    "                    rescaled_rd[cnt_tr, cc:cc + time_points - 1] = np.nan\n",
    "                    rescaled_ra[cnt_tr, cc:cc + time_points - 1] = np.nan\n",
    "                    rescaled_aa[cnt_tr, cc:cc + time_points - 1] = np.nan\n",
    "\n",
    "\n",
    "                    cc += (time_points - 1)\n",
    "                    continue\n",
    "            elif k == median_iei.shape[0] - 1:\n",
    "                tp_0 = tp_reward\n",
    "                tp_1 = len(np.where(trial_idx==tr)[0])-1\n",
    "            else:            \n",
    "                ev1 = event_align[k-1]\n",
    "                ev2 = event_align[k]\n",
    "                try:\n",
    "                    tp_0 = np.where(X[trial_idx==tr, np.where(varnames==ev1)] == 1)[1][0]\n",
    "                except:\n",
    "                    print('skip tr',cnt_tr)\n",
    "                    rescaled_vel[cnt_tr, cc:cc + time_points - 1] = np.nan\n",
    "                    rescaled_ang[cnt_tr, cc:cc + time_points - 1] = np.nan\n",
    "                    rescaled_ev[cnt_tr, cc:cc + time_points - 1] = np.nan\n",
    "                    rescaled_eh[cnt_tr, cc:cc + time_points - 1] = np.nan\n",
    "#                     rescaled_ad_1[cnt_tr, cc:cc + time_points - 1] = np.nan\n",
    "#                     rescaled_rd_1[cnt_tr, cc:cc + time_points - 1] = np.nan\n",
    "#                     rescaled_ad_2[cnt_tr, cc:cc + time_points - 1] = np.nan\n",
    "#                     rescaled_rd_2[cnt_tr, cc:cc + time_points - 1] = np.nan\n",
    "                    rescaled_ad[cnt_tr, cc:cc + time_points - 1] = np.nan\n",
    "                    rescaled_rd[cnt_tr, cc:cc + time_points - 1] = np.nan\n",
    "                    rescaled_aa[cnt_tr, cc:cc + time_points - 1] = np.nan\n",
    "                    rescaled_ra[cnt_tr, cc:cc + time_points - 1] = np.nan\n",
    "                    cc += (time_points - 1)\n",
    "                    continue\n",
    "\n",
    "                tp_0 = np.where(X[trial_idx==tr, np.where(varnames==ev1)] == 1)[1][0]\n",
    "                if ev2 == 't_reward':\n",
    "                    tp_1 = tp_reward\n",
    "                else:\n",
    "                    tp_1 = np.where(X[trial_idx==tr, np.where(varnames==ev2)] == 1)[1][0]\n",
    "\n",
    "\n",
    "\n",
    "            if tp_0 >= tp_1-1:\n",
    "                skip_trial = True\n",
    "                break\n",
    "\n",
    "\n",
    "\n",
    "\n",
    "            time_rescale = np.linspace(time_bounds[k], time_bounds[k+1], time_points)[:-1]\n",
    "\n",
    "            if tr == unq_trials[0]:\n",
    "                time_rescale_all = np.hstack((time_rescale_all,time_rescale))\n",
    "\n",
    "\n",
    "            rates = firing_rate_est[trial_idx == tr,:]\n",
    "            rates = rates[tp_0: tp_1, :]\n",
    "            rad_vel_tmp = rad_vel[tp_0:tp_1]\n",
    "            ang_vel_tmp = ang_vel[tp_0:tp_1]\n",
    "            eye_hori_tmp = eye_hori[tp_0:tp_1]\n",
    "            eye_vert_tmp = eye_vert[tp_0:tp_1]\n",
    "#             rad_targ_tmp_1 = rad_targ_1[tp_0:tp_1]\n",
    "#             ang_targ_tmp_1 = ang_targ_1[tp_0:tp_1]\n",
    "#             rad_targ_tmp_2 = rad_targ_2[tp_0:tp_1]\n",
    "#             ang_targ_tmp_2 = ang_targ_2[tp_0:tp_1]\n",
    "            rad_targ_tmp = rad_targ[tp_0:tp_1]\n",
    "            ang_targ_tmp = ang_targ[tp_0:tp_1]\n",
    "            rad_acc_tmp = rad_acc[tp_0:tp_1]\n",
    "            ang_acc_tmp = ang_acc[tp_0:tp_1]\n",
    "\n",
    "            time_tr = np.linspace(time_rescale[0], time_rescale[-1], rates.shape[0])\n",
    "            \n",
    "            \n",
    "            interp_vel = interp1d(time_tr, rad_vel_tmp, kind='linear')\n",
    "            interp_ang = interp1d(time_tr, ang_vel_tmp, kind='linear')\n",
    "            interp_ev = interp1d(time_tr, eye_vert_tmp, kind='linear')\n",
    "            interp_eh = interp1d(time_tr, eye_hori_tmp, kind='linear')\n",
    "#             interp_ad_1 = interp1d(time_tr, ang_targ_tmp_1, kind='linear')\n",
    "#             interp_rd_1 = interp1d(time_tr, rad_targ_tmp_1, kind='linear')\n",
    "#             interp_ad_2 = interp1d(time_tr, ang_targ_tmp_2, kind='linear')\n",
    "#             interp_rd_2 = interp1d(time_tr, rad_targ_tmp_2, kind='linear')\n",
    "            interp_ad = interp1d(time_tr, ang_targ_tmp, kind='linear')\n",
    "            interp_rd = interp1d(time_tr, rad_targ_tmp, kind='linear')\n",
    "            interp_aa = interp1d(time_tr, ang_acc_tmp, kind='linear')\n",
    "            interp_ra = interp1d(time_tr, rad_acc_tmp, kind='linear')\n",
    "\n",
    "\n",
    "            rescaled_vel[cnt_tr,cc:cc+time_points-1] = interp_vel(time_rescale)\n",
    "            rescaled_ang[cnt_tr,cc:cc+time_points-1] = interp_ang(time_rescale)\n",
    "            rescaled_ev[cnt_tr,cc:cc+time_points-1] = interp_ev(time_rescale)\n",
    "            rescaled_eh[cnt_tr,cc:cc+time_points-1] = interp_eh(time_rescale)\n",
    "#             rescaled_ad_1[cnt_tr,cc:cc+time_points-1] = interp_ad_1(time_rescale)\n",
    "#             rescaled_rd_1[cnt_tr,cc:cc+time_points-1] = interp_rd_1(time_rescale)\n",
    "#             rescaled_ad_2[cnt_tr,cc:cc+time_points-1] = interp_ad_2(time_rescale)\n",
    "#             rescaled_rd_2[cnt_tr,cc:cc+time_points-1] = interp_rd_2(time_rescale)\n",
    "            rescaled_ad[cnt_tr,cc:cc+time_points-1] = interp_ad(time_rescale)\n",
    "            rescaled_rd[cnt_tr,cc:cc+time_points-1] = interp_rd(time_rescale)\n",
    "            rescaled_aa[cnt_tr,cc:cc+time_points-1] = interp_aa(time_rescale)\n",
    "            rescaled_ra[cnt_tr,cc:cc+time_points-1] = interp_ra(time_rescale)\n",
    "\n",
    "\n",
    "\n",
    "\n",
    "\n",
    "            for neu in range(rates.shape[1]):\n",
    "                interp = interp1d(time_tr, rates[:,neu], kind='linear')\n",
    "                trial_rescaled_rate[neu, cnt_tr, cc:cc+time_points-1] = interp(time_rescale)\n",
    "\n",
    "            cc += (time_points-1)\n",
    "            \n",
    "                    \n",
    "        # Correct for NaNs\n",
    "#         rd_1 = rescaled_rd_1[cnt_tr]\n",
    "#         rd_1[np.isnan(rd_1)] = np.median(rd_1[~np.isnan(rd_1)])        \n",
    "#         rescaled_rd_1[cnt_tr] = rd_1\n",
    "#         rd_2 = rescaled_rd_2[cnt_tr]\n",
    "#         rd_2[np.isnan(rd_2)] = np.median(rd_2[~np.isnan(rd_2)])        \n",
    "#         rescaled_rd_2[cnt_tr] = rd_2\n",
    "        rd = rescaled_rd[cnt_tr]\n",
    "        rd[np.isnan(rd)] = np.median(rd[~np.isnan(rd)])        \n",
    "        rescaled_rd[cnt_tr] = rd\n",
    "        \n",
    "        vel = rescaled_vel[cnt_tr]\n",
    "        vel[np.isnan(vel)] = np.median(vel[~np.isnan(vel)])        \n",
    "        rescaled_vel[cnt_tr] = vel\n",
    "        \n",
    "        ra = rescaled_ra[cnt_tr]\n",
    "        ra[np.isnan(ra)] = np.median(ra[~np.isnan(ra)])        \n",
    "        rescaled_ra[cnt_tr] = ra       \n",
    "        \n",
    "        \n",
    "        # Julie: this seems necessary\n",
    "        for neu in range(rates.shape[1]):\n",
    "            rt = trial_rescaled_rate[neu, cnt_tr]\n",
    "#             rt[np.isnan(rt)] = np.median(rt[~np.isnan(rt)])\n",
    "            rt[np.isnan(rt)] = 0\n",
    "            trial_rescaled_rate[neu, cnt_tr] = rt\n",
    "\n",
    "\n",
    "        isREW[cnt_tr] = is_rew\n",
    "        cnt_tr += 1\n",
    "\n",
    "    return (np.array(time_rescale_all), time_bounds, trial_rescaled_rate,num_tp_x_bin,\n",
    "            np.array(trial_list),# rad_targ_vec,\n",
    "            rescaled_vel,# timeOFF,timeSTART,timeSTOP,\n",
    "            isREW,rescaled_ang,rescaled_ev,rescaled_eh,rescaled_ad,rescaled_rd,rescaled_ra,rescaled_aa,tr_without_event)\n",
    "# ,rescaled_ad_2,rescaled_rd_2)\n"
   ]
  },
  {
   "cell_type": "code",
   "execution_count": 21,
   "id": "73d26255",
   "metadata": {},
   "outputs": [
    {
     "name": "stdout",
     "output_type": "stream",
     "text": [
      "1/584\n",
      "101/584\n",
      "201/584\n",
      "301/584\n",
      "401/584\n",
      "501/584\n"
     ]
    }
   ],
   "source": [
    "(time_rescale_all,time_bounds, trial_rescaled_rate,num_timept_x_bin,trial_list,#rad_targ_vec,\n",
    " rescaled_vel,# timeOFF,timeSTART,timeSTOP,\n",
    " isREW,rescaled_ang,rescaled_ev,rescaled_eh,rescaled_ad,rescaled_rd,rescaled_ra,rescaled_aa, tr_without_event) =\\\n",
    "compute_aligned_rate(yt, Xt, var_names, h, trial_idx, event_list,dt=0.006,# flyON_dur=50,\n",
    "                     num_tp_x_bin=None)"
   ]
  },
  {
   "cell_type": "code",
   "execution_count": 23,
   "id": "828bb571",
   "metadata": {},
   "outputs": [],
   "source": [
    "# Discard the junk trials\n",
    "# This is desperate..should change later!!\n",
    "# trial_rescaled_rate = trial_rescaled_rate[:,1:,:]\n",
    "# rescaled_rd_1 = rescaled_rd_1[1:]\n",
    "# rescaled_rd_2 = rescaled_rd_2[1:]\n",
    "# trial_keep = np.delete(trial_keep, 0)"
   ]
  },
  {
   "cell_type": "code",
   "execution_count": 22,
   "id": "8dca670d",
   "metadata": {},
   "outputs": [
    {
     "data": {
      "text/plain": [
       "[67, 256, 74, 96]"
      ]
     },
     "execution_count": 22,
     "metadata": {},
     "output_type": "execute_result"
    }
   ],
   "source": [
    "num_timept_x_bin"
   ]
  },
  {
   "cell_type": "code",
   "execution_count": 23,
   "id": "ea450c43",
   "metadata": {},
   "outputs": [
    {
     "data": {
      "text/plain": [
       "(68, 584, 489)"
      ]
     },
     "execution_count": 23,
     "metadata": {},
     "output_type": "execute_result"
    }
   ],
   "source": [
    "np.shape(trial_rescaled_rate)"
   ]
  },
  {
   "cell_type": "code",
   "execution_count": null,
   "id": "074f63e1",
   "metadata": {},
   "outputs": [],
   "source": []
  },
  {
   "cell_type": "code",
   "execution_count": null,
   "id": "286331d4",
   "metadata": {},
   "outputs": [],
   "source": []
  },
  {
   "cell_type": "code",
   "execution_count": 26,
   "id": "923aba90",
   "metadata": {},
   "outputs": [
    {
     "name": "stdout",
     "output_type": "stream",
     "text": [
      "[ 30  40  50  60  70  80  90 100 110 120 130 140 150 160 170 180 190 200\n",
      " 210 220 230 240 250 260 270 280 290 300 310 320 330 340 350 360 370 380\n",
      " 390 400 410 420 430 440 450 460 470 480]\n"
     ]
    }
   ],
   "source": [
    "decoder_time = np.arange(30, int(np.ceil(np.shape(trial_rescaled_rate)[2]/10)*10), 10)\n",
    "print(decoder_time)"
   ]
  },
  {
   "cell_type": "code",
   "execution_count": 27,
   "id": "0a6d13e9",
   "metadata": {},
   "outputs": [],
   "source": [
    "from sklearn import linear_model\n",
    "from sklearn.model_selection import GridSearchCV, train_test_split\n",
    "import sklearn.metrics as metrics\n",
    "import pandas as pd\n",
    "\n",
    "def test(model, dataX, dataY, iterations = 100):\n",
    "    r2_train = []\n",
    "    r2_test = []\n",
    "    for j in range(iterations):\n",
    "        X_train, X_test, y_train, y_test = train_test_split(dataX, \n",
    "                                                            dataY, \n",
    "                                                            test_size= 0.2)\n",
    "        r2_test.append(metrics.r2_score(y_test,\n",
    "                                        model.fit(X_train, \n",
    "                                                     y_train).predict(X_test)))\n",
    "        r2_train.append(metrics.r2_score(y_train, \n",
    "                                         model.fit(X_train, \n",
    "                                                      y_train).predict(X_train)))\n",
    "    return [np.mean(r2_train), np.mean(r2_test)]"
   ]
  },
  {
   "cell_type": "code",
   "execution_count": 28,
   "id": "8fdaca27",
   "metadata": {},
   "outputs": [],
   "source": [
    "from sklearn.model_selection import cross_val_score\n",
    "# function to get cross validation scores\n",
    "def get_cv_scores(model, x_train, y_train):\n",
    "    scores = cross_val_score(model.fit(x_train, y_train),\n",
    "                             x_train,\n",
    "                             y_train,\n",
    "                             cv=5,\n",
    "                             scoring='r2')\n",
    "    \n",
    "#     print('CV Mean: ', np.mean(scores))\n",
    "#     print('STD: ', np.std(scores))\n",
    "#     print('\\n')\n",
    "    return np.mean(scores)"
   ]
  },
  {
   "cell_type": "code",
   "execution_count": 29,
   "id": "fce0c631",
   "metadata": {},
   "outputs": [],
   "source": [
    "lasso_params = {'alpha':np.linspace(60.0, 80.0, 10)}\n",
    "\n",
    "model_1 = []\n",
    "model_2 = []\n",
    "results_1 = np.empty((len(decoder_time), 2)) # 2 is for train and test dataset\n",
    "results_2 = np.empty((len(decoder_time), 2)) # 2 is for train and test dataset\n",
    "\n",
    "\n",
    "for i,time in enumerate(decoder_time-1):\n",
    "    grid_1 = GridSearchCV(linear_model.Lasso(), param_grid=lasso_params).\\\n",
    "    fit(trial_rescaled_rate[neuron_keep - 1,:,time].T, rescaled_rd[:,time])\n",
    "    model_1.append(grid_1.best_estimator_)\n",
    "\n",
    "    \n",
    "#     grid_2 = GridSearchCV(linear_model.Lasso(), param_grid=lasso_params).\\\n",
    "#     fit(trial_rescaled_rate[neuron_keep - 1,:,time].T, rescaled_rd_2[:,time])\n",
    "#     model_2.append(grid_2.best_estimator_)\n",
    "#     get_cv_scores(model_2[i], fit_x[:,:,i], fit_y_2[:,i])\n",
    "#     print(grid_2.best_params_)\n",
    "    \n",
    "    results_1[i] = test(model_1[i], trial_rescaled_rate[neuron_keep - 1,:,time].T, rescaled_rd[:,time])\n",
    "#     results_2[i] = test(model_2[i], trial_rescaled_rate[neuron_keep - 1,:,time].T, rescaled_rd_2[:,time])"
   ]
  },
  {
   "cell_type": "code",
   "execution_count": 30,
   "id": "560d55e0",
   "metadata": {},
   "outputs": [
    {
     "name": "stdout",
     "output_type": "stream",
     "text": [
      "[ 3.7 29.3 36.7 46.3]\n"
     ]
    },
    {
     "data": {
      "image/png": "[encoded data removed]",
      "text/plain": [
       "<Figure size 432x288 with 1 Axes>"
      ]
     },
     "metadata": {
      "needs_background": "light"
     },
     "output_type": "display_data"
    }
   ],
   "source": [
    "dt = 6\n",
    "pre_trial_dur = 200\n",
    "\n",
    "results_1[:int((np.cumsum(num_timept_x_bin)[0]-decoder_time[0])/10)+1] = 0\n",
    "\n",
    "plt.plot(results_1[:, 0], '--', color='tab:blue', label='targ 1 - train')\n",
    "plt.plot(results_1[:, 1], color='tab:blue', label='targ 1 - test')\n",
    "# plt.plot(results_2[:, 0], '--', color='tab:orange', label='targ 2 - train')\n",
    "# plt.plot(results_2[:, 1], color='tab:orange', label='targ2 - test')\n",
    "idx = np.array([0, 5, 10, 15, 20, 25, 30, 35, 40, 45])\n",
    "labels = decoder_time[idx] * dt - pre_trial_dur\n",
    "plt.xticks(idx, labels, fontsize=12)\n",
    "plt.legend(fontsize=14, bbox_to_anchor=(1.05, 1), loc='upper left')\n",
    "plt.xlabel('time (ms)', fontsize=14)\n",
    "plt.ylabel('R2 score', fontsize=14) # coefficient of determination\n",
    "plt.ylim([-0.025, 0.45])\n",
    "plt.yticks(fontsize=12)\n",
    "markers = (np.cumsum(num_timept_x_bin) - decoder_time[0])/10\n",
    "for i in range(len(markers)-1):    \n",
    "    plt.axvline(x=markers[i], c='r')\n",
    "plt.axvline(x=markers[0] + 5, c='r') # target ON\n",
    "print(markers)"
   ]
  },
  {
   "cell_type": "code",
   "execution_count": null,
   "id": "f5bbe977",
   "metadata": {},
   "outputs": [],
   "source": []
  },
  {
   "cell_type": "code",
   "execution_count": null,
   "id": "8758e527",
   "metadata": {},
   "outputs": [],
   "source": []
  },
  {
   "cell_type": "code",
   "execution_count": null,
   "id": "d95817e0",
   "metadata": {},
   "outputs": [],
   "source": []
  },
  {
   "cell_type": "code",
   "execution_count": null,
   "id": "1aefffda",
   "metadata": {},
   "outputs": [],
   "source": []
  }
 ],
 "metadata": {
  "kernelspec": {
   "display_name": "Python 3",
   "language": "python",
   "name": "python3"
  },
  "language_info": {
   "codemirror_mode": {
    "name": "ipython",
    "version": 3
   },
   "file_extension": ".py",
   "mimetype": "text/x-python",
   "name": "python",
   "nbconvert_exporter": "python",
   "pygments_lexer": "ipython3",
   "version": "3.7.3"
  },
  "latex_envs": {
   "LaTeX_envs_menu_present": true,
   "autoclose": false,
   "autocomplete": true,
   "bibliofile": "biblio.bib",
   "cite_by": "apalike",
   "current_citInitial": 1,
   "eqLabelWithNumbers": true,
   "eqNumInitial": 1,
   "hotkeys": {
    "equation": "Ctrl-E",
    "itemize": "Ctrl-I"
   },
   "labels_anchors": false,
   "latex_user_defs": false,
   "report_style_numbering": false,
   "user_envs_cfg": false
  }
 },
 "nbformat": 4,
 "nbformat_minor": 5
}
